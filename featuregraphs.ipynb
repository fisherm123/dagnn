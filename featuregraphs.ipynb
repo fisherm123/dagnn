{
  "nbformat": 4,
  "nbformat_minor": 0,
  "metadata": {
    "colab": {
      "provenance": [],
      "machine_shape": "hm"
    },
    "kernelspec": {
      "name": "python3",
      "display_name": "Python 3"
    },
    "language_info": {
      "name": "python"
    }
  },
  "cells": [
    {
      "cell_type": "code",
      "source": [
        "!pip install ogb>=1.3.3\n"
      ],
      "metadata": {
        "id": "1MJxPlT34Gn0"
      },
      "execution_count": null,
      "outputs": []
    },
    {
      "cell_type": "code",
      "source": [
        "import torch\n",
        "from ogb.graphproppred import GraphPropPredDataset\n",
        "import matplotlib.pyplot as plt\n",
        "import numpy as np\n",
        "from collections import Counter\n",
        "\n",
        "dataset = GraphPropPredDataset(name=\"ogbg-code2\")"
      ],
      "metadata": {
        "id": "qTHc8BmH6bv2"
      },
      "execution_count": null,
      "outputs": []
    },
    {
      "cell_type": "code",
      "source": [
        "feature1_counter = Counter()\n",
        "feature2_counter = Counter()\n",
        "\n",
        "\n",
        "for graph in dataset:\n",
        "    node_features = graph[0]['node_feat']\n",
        "\n",
        "    feature1_values = node_features[:, 0]\n",
        "    feature2_values = node_features[:, 1]\n",
        "\n",
        "    feature1_counter.update(feature1_values)\n",
        "    feature2_counter.update(feature2_values)\n"
      ],
      "metadata": {
        "id": "RURVGocO4Hiu"
      },
      "execution_count": null,
      "outputs": []
    },
    {
      "cell_type": "code",
      "source": [
        "fig, (ax1, ax2) = plt.subplots(1, 2, figsize=(20, 8))\n",
        "\n",
        "feature1_items = sorted(feature1_counter.items())\n",
        "values1, counts1 = zip(*feature1_items)\n",
        "values1 = [int(v) for v in values1]\n",
        "ax1.bar(values1, counts1, color='skyblue', width=0.8)\n",
        "ax1.set_title('Distribution of Feature 1', pad=20)\n",
        "ax1.set_xlabel('Feature Value')\n",
        "ax1.set_ylabel('Frequency')\n",
        "ax1.grid(True, alpha=0.3)\n",
        "ax1.set_xlim(min(values1) - 1, max(values1))\n",
        "\n",
        "feature2_items = sorted(feature2_counter.items())\n",
        "values2, counts2 = zip(*feature2_items)\n",
        "values2 = [int(v) for v in values2]\n",
        "\n",
        "ax2.bar(values2, counts2, color='red', width=5)\n",
        "ax2.set_title('Distribution of Feature 2', pad=20)\n",
        "ax2.set_xlabel('Feature Value')\n",
        "ax2.set_ylabel('Frequency')\n",
        "ax2.grid(True, alpha=0.3)\n",
        "\n",
        "max_val2 = max(values2)\n",
        "min_val2 = min(values2)\n",
        "ax2.set_xlim(min_val2 - 5, max_val2 + 100)\n",
        "\n",
        "ax1.xaxis.set_major_locator(plt.MaxNLocator(integer=True))\n",
        "ax2.xaxis.set_major_locator(plt.MaxNLocator(integer=True))\n",
        "\n",
        "plt.subplots_adjust(bottom=0.15, wspace=0.3)\n",
        "\n",
        "plt.show()"
      ],
      "metadata": {
        "id": "uNc0Gukb-Ywg"
      },
      "execution_count": null,
      "outputs": []
    }
  ]
}